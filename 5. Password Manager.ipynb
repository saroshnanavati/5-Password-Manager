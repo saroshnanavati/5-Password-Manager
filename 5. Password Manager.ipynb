{
 "cells": [
  {
   "cell_type": "code",
   "execution_count": null,
   "id": "6951c202",
   "metadata": {},
   "outputs": [],
   "source": [
    "master_pwd = input(\"What is the master password? \")\n",
    "\n",
    "def view():\n",
    "    with open('passwords.txt','r') as f:\n",
    "        for line in f.readlines():\n",
    "            data = line.rstrip()\n",
    "            user, passw = data.split(\"|\")\n",
    "            print('User: ', user, ' | ','Password: ', passw)\n",
    "\n",
    "def add():\n",
    "    name = input('Account Name: ')\n",
    "    pwd = input('Password: ')\n",
    "    \n",
    "    with open('passwords.txt','a') as f:\n",
    "        f.write(name + \"|\" + pwd + \"\\n\")\n",
    "        \n",
    "while True:\n",
    "    mode = input('Would you like to add a new password or view existing ones? Type \"add\" or \"view\".  Press \"q\" to quit)').lower()\n",
    "    if mode == \"q\":\n",
    "        break\n",
    "    if mode == 'view':\n",
    "        view()\n",
    "    elif mode == 'add':\n",
    "        add()\n",
    "    else:\n",
    "        print(\"Invalid mode.\")\n",
    "        continue"
   ]
  },
  {
   "cell_type": "code",
   "execution_count": null,
   "id": "5e3c52ba",
   "metadata": {},
   "outputs": [],
   "source": []
  }
 ],
 "metadata": {
  "kernelspec": {
   "display_name": "Python 3 (ipykernel)",
   "language": "python",
   "name": "python3"
  },
  "language_info": {
   "codemirror_mode": {
    "name": "ipython",
    "version": 3
   },
   "file_extension": ".py",
   "mimetype": "text/x-python",
   "name": "python",
   "nbconvert_exporter": "python",
   "pygments_lexer": "ipython3",
   "version": "3.9.7"
  }
 },
 "nbformat": 4,
 "nbformat_minor": 5
}
